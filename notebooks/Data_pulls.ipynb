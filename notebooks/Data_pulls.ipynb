{
  "nbformat": 4,
  "nbformat_minor": 0,
  "metadata": {
    "colab": {
      "name": "Data pulls.ipynb",
      "provenance": [],
      "collapsed_sections": [],
      "toc_visible": true,
      "include_colab_link": true
    },
    "kernelspec": {
      "name": "python3",
      "display_name": "Python 3"
    }
  },
  "cells": [
    {
      "cell_type": "markdown",
      "metadata": {
        "id": "view-in-github",
        "colab_type": "text"
      },
      "source": [
        "<a href=\"https://colab.research.google.com/github/jnrkufuor/apollo/blob/Ryan/Data_pulls.ipynb\" target=\"_parent\"><img src=\"https://colab.research.google.com/assets/colab-badge.svg\" alt=\"Open In Colab\"/></a>"
      ]
    },
    {
      "cell_type": "markdown",
      "metadata": {
        "id": "3tTkOuVyGqJE"
      },
      "source": [
        "\r\n",
        "\r\n",
        "## 2. GoogleNews"
      ]
    },
    {
      "cell_type": "code",
      "metadata": {
        "id": "fr-vGUuDsoSV",
        "colab": {
          "base_uri": "https://localhost:8080/",
          "height": 1000
        },
        "outputId": "c06bf0cd-7006-4892-82c5-446ca1c8fd28"
      },
      "source": [
        "#from pygooglenews import GoogleNews\n",
        "import numpy as np\n",
        "import pandas as pd\n",
        "#!pip install GoogleNews\n",
        "from GoogleNews import GoogleNews\n",
        "\n",
        "from google.colab import drive\n",
        "\n",
        "drive.mount('/content/drive')\n",
        "\n",
        "gns = GoogleNews()\n",
        "gns=GoogleNews(period='7d')\n",
        "#gns.search('Apple')\n",
        "#df_gns=pd.DataFrame(gns.result())\n",
        "#df_gns.shape\n",
        "\n",
        "df_f500 = pd.read_csv('/content/drive/My Drive/fortune500-2019.csv.txt')\n",
        "f500c=df_f500['company']\n",
        "#f500c[66]\n",
        "\n",
        "newsframe=pd.DataFrame()\n",
        "\n",
        "#DO NOT RUN THE SECTION BELOW TOO MANY TIMES- you will get timed out by GoogleNews and will have to wait a few hours to run it again\n",
        "for company in f500c:\n",
        "  gns.search(company)\n",
        "  df_comp=pd.DataFrame(gns.result()).iloc[0:10,]\n",
        "  newsframe=newsframe.append(df_comp)\n",
        "  gns.clear()\n",
        "\n",
        "newsframe\n",
        "#zb=pd.Series(np.zeros(70))\n",
        "#business = gn.topic_headlines('business', from_ = '2021-03-01', to_ = '2021-03-05')\n",
        "#for i in range(0,70):\n",
        "#  zb.iloc[i]=business['entries'][i]['link']\n",
        "\n",
        "#zb.iloc[4]\n",
        "\n",
        "#len(business['entries'])\n",
        "\n",
        "#from newscatcher import Newscatcher\n",
        "#from newscatcher import describe_url\n",
        "\n",
        "#describe_url('news.google.com')\n",
        "\n",
        "\n",
        "\n",
        "#nc=Newscatcher(website='news.google.com', topic='finance')\n",
        "#results=nc.get_news()\n",
        "#results\n",
        "\n"
      ],
      "execution_count": null,
      "outputs": [
        {
          "output_type": "stream",
          "text": [
            "Drive already mounted at /content/drive; to attempt to forcibly remount, call drive.mount(\"/content/drive\", force_remount=True).\n"
          ],
          "name": "stdout"
        },
        {
          "output_type": "execute_result",
          "data": {
            "text/html": [
              "<div>\n",
              "<style scoped>\n",
              "    .dataframe tbody tr th:only-of-type {\n",
              "        vertical-align: middle;\n",
              "    }\n",
              "\n",
              "    .dataframe tbody tr th {\n",
              "        vertical-align: top;\n",
              "    }\n",
              "\n",
              "    .dataframe thead th {\n",
              "        text-align: right;\n",
              "    }\n",
              "</style>\n",
              "<table border=\"1\" class=\"dataframe\">\n",
              "  <thead>\n",
              "    <tr style=\"text-align: right;\">\n",
              "      <th></th>\n",
              "      <th>title</th>\n",
              "      <th>media</th>\n",
              "      <th>date</th>\n",
              "      <th>datetime</th>\n",
              "      <th>desc</th>\n",
              "      <th>link</th>\n",
              "      <th>img</th>\n",
              "    </tr>\n",
              "  </thead>\n",
              "  <tbody>\n",
              "    <tr>\n",
              "      <th>0</th>\n",
              "      <td>STUCK IN WALMART PARKING lot after Colorado storm</td>\n",
              "      <td>FOX31 Denver</td>\n",
              "      <td>1 hour ago</td>\n",
              "      <td>2021-03-15 22:26:32.753586</td>\n",
              "      <td>Several drivers were forced into a Walmart par...</td>\n",
              "      <td>https://kdvr.com/news/local/drivers-spend-hour...</td>\n",
              "      <td>data:image/gif;base64,R0lGODlhAQABAIAAAP//////...</td>\n",
              "    </tr>\n",
              "    <tr>\n",
              "      <th>1</th>\n",
              "      <td>Suspect wanted in fatal Monkey Junction Walmar...</td>\n",
              "      <td>Home - WSFX</td>\n",
              "      <td>1 hour ago</td>\n",
              "      <td>2021-03-15 22:26:32.755743</td>\n",
              "      <td>Laron Lee Carter is wanted by the NHC Sheriff'...</td>\n",
              "      <td>https://foxwilmington.com/local-news/suspect-w...</td>\n",
              "      <td>data:image/gif;base64,R0lGODlhAQABAIAAAP//////...</td>\n",
              "    </tr>\n",
              "    <tr>\n",
              "      <th>2</th>\n",
              "      <td>Walmart Theft Investigation Turns Into Chase A...</td>\n",
              "      <td>KVRR</td>\n",
              "      <td>1 hour ago</td>\n",
              "      <td>2021-03-15 22:26:32.757773</td>\n",
              "      <td>— Two people are arrested after a chase where ...</td>\n",
              "      <td>https://www.kvrr.com/2021/03/15/walmart-theft-...</td>\n",
              "      <td>data:image/gif;base64,R0lGODlhAQABAIAAAP//////...</td>\n",
              "    </tr>\n",
              "    <tr>\n",
              "      <th>3</th>\n",
              "      <td>Walmart Calls Ex-Worker's 'Stonewalling' Claim...</td>\n",
              "      <td></td>\n",
              "      <td>1 hour ago</td>\n",
              "      <td>2021-03-15 22:26:32.759685</td>\n",
              "      <td>Law360 (March 15, 2021, 5:49 PM EDT) -- An ex-...</td>\n",
              "      <td>https://www.law360.com/retail/articles/1364916...</td>\n",
              "      <td>data:image/gif;base64,R0lGODlhAQABAIAAAP//////...</td>\n",
              "    </tr>\n",
              "    <tr>\n",
              "      <th>4</th>\n",
              "      <td>Three wanted for questioning in Walmart shopli...</td>\n",
              "      <td>wgxa.tv</td>\n",
              "      <td>1 hour ago</td>\n",
              "      <td>2021-03-15 22:26:32.761621</td>\n",
              "      <td>HOUSTON COUNTY, Ga. -- Perry police are lookin...</td>\n",
              "      <td>https://wgxa.tv/news/local/three-wanted-for-qu...</td>\n",
              "      <td>data:image/gif;base64,R0lGODlhAQABAIAAAP//////...</td>\n",
              "    </tr>\n",
              "    <tr>\n",
              "      <th>...</th>\n",
              "      <td>...</td>\n",
              "      <td>...</td>\n",
              "      <td>...</td>\n",
              "      <td>...</td>\n",
              "      <td>...</td>\n",
              "      <td>...</td>\n",
              "      <td>...</td>\n",
              "    </tr>\n",
              "    <tr>\n",
              "      <th>5</th>\n",
              "      <td>Denim Market (COVID-19) to Witness Astonishing...</td>\n",
              "      <td>KSU | The Sentinel Newspaper</td>\n",
              "      <td>10 hours ago</td>\n",
              "      <td>2021-03-15 13:36:50.533737</td>\n",
              "      <td>... to Witness Astonishing Growth by Forecast ...</td>\n",
              "      <td>https://ksusentinel.com/2021/03/15/denim-marke...</td>\n",
              "      <td>data:image/gif;base64,R0lGODlhAQABAIAAAP//////...</td>\n",
              "    </tr>\n",
              "    <tr>\n",
              "      <th>6</th>\n",
              "      <td>Global Online Apparel Retailing Market Insight...</td>\n",
              "      <td>KSU | The Sentinel Newspaper</td>\n",
              "      <td>11 hours ago</td>\n",
              "      <td>2021-03-15 12:36:50.535679</td>\n",
              "      <td>... JD.com, Rakuten, Walmart, American Apparel...</td>\n",
              "      <td>https://ksusentinel.com/2021/03/15/global-onli...</td>\n",
              "      <td>data:image/gif;base64,R0lGODlhAQABAIAAAP//////...</td>\n",
              "    </tr>\n",
              "    <tr>\n",
              "      <th>7</th>\n",
              "      <td>Online Childrens Apparel Market 2021: Potentia...</td>\n",
              "      <td>KSU | The Sentinel Newspaper</td>\n",
              "      <td>11 hours ago</td>\n",
              "      <td>2021-03-15 12:36:50.537612</td>\n",
              "      <td>... eBay, GAP, Giordano International, Kering,...</td>\n",
              "      <td>https://ksusentinel.com/2021/03/15/online-chil...</td>\n",
              "      <td>data:image/gif;base64,R0lGODlhAQABAIAAAP//////...</td>\n",
              "    </tr>\n",
              "    <tr>\n",
              "      <th>8</th>\n",
              "      <td>Levi Strauss &amp; Co. (LEVI): The stock short ter...</td>\n",
              "      <td>The Baxter Report</td>\n",
              "      <td>12 hours ago</td>\n",
              "      <td>2021-03-15 11:36:50.539544</td>\n",
              "      <td>Levi Strauss &amp; Co. (LEVI) saw an uptrend of 2....</td>\n",
              "      <td>https://baxterreport.com/2021/03/15/levi-strau...</td>\n",
              "      <td>data:image/gif;base64,R0lGODlhAQABAIAAAP//////...</td>\n",
              "    </tr>\n",
              "    <tr>\n",
              "      <th>9</th>\n",
              "      <td>Levi Strauss &amp; Co. (NYSE:LEVI) Given Consensus...</td>\n",
              "      <td>MarketBeat</td>\n",
              "      <td>12 hours ago</td>\n",
              "      <td>2021-03-15 11:36:50.541476</td>\n",
              "      <td>Shares of Levi Strauss &amp; Co. (NYSE:LEVI) have ...</td>\n",
              "      <td>https://www.marketbeat.com/instant-alerts/nyse...</td>\n",
              "      <td>data:image/gif;base64,R0lGODlhAQABAIAAAP//////...</td>\n",
              "    </tr>\n",
              "  </tbody>\n",
              "</table>\n",
              "<p>4992 rows × 7 columns</p>\n",
              "</div>"
            ],
            "text/plain": [
              "                                                title  ...                                                img\n",
              "0   STUCK IN WALMART PARKING lot after Colorado storm  ...  data:image/gif;base64,R0lGODlhAQABAIAAAP//////...\n",
              "1   Suspect wanted in fatal Monkey Junction Walmar...  ...  data:image/gif;base64,R0lGODlhAQABAIAAAP//////...\n",
              "2   Walmart Theft Investigation Turns Into Chase A...  ...  data:image/gif;base64,R0lGODlhAQABAIAAAP//////...\n",
              "3   Walmart Calls Ex-Worker's 'Stonewalling' Claim...  ...  data:image/gif;base64,R0lGODlhAQABAIAAAP//////...\n",
              "4   Three wanted for questioning in Walmart shopli...  ...  data:image/gif;base64,R0lGODlhAQABAIAAAP//////...\n",
              "..                                                ...  ...                                                ...\n",
              "5   Denim Market (COVID-19) to Witness Astonishing...  ...  data:image/gif;base64,R0lGODlhAQABAIAAAP//////...\n",
              "6   Global Online Apparel Retailing Market Insight...  ...  data:image/gif;base64,R0lGODlhAQABAIAAAP//////...\n",
              "7   Online Childrens Apparel Market 2021: Potentia...  ...  data:image/gif;base64,R0lGODlhAQABAIAAAP//////...\n",
              "8   Levi Strauss & Co. (LEVI): The stock short ter...  ...  data:image/gif;base64,R0lGODlhAQABAIAAAP//////...\n",
              "9   Levi Strauss & Co. (NYSE:LEVI) Given Consensus...  ...  data:image/gif;base64,R0lGODlhAQABAIAAAP//////...\n",
              "\n",
              "[4992 rows x 7 columns]"
            ]
          },
          "metadata": {
            "tags": []
          },
          "execution_count": 4
        }
      ]
    },
    {
      "cell_type": "code",
      "metadata": {
        "id": "DqvNsLwY2wfD"
      },
      "source": [
        "#gns.search(f500c[1])\r\n",
        "#df_comp=pd.DataFrame(gns.result())\r\n",
        "#f500c[1]\r\n",
        "#gns.search('Apple')\r\n",
        "#pd.DataFrame(gns.result()).iloc[0:20,]\r\n",
        "\r\n",
        "newsframe=newsframe.drop_duplicates(subset=[\"title\"])\r\n",
        "\r\n",
        "#!pip install goose3\r\n",
        "from goose3 import Goose\r\n",
        "from goose3.configuration import Configuration\r\n",
        "import numpy as np\r\n",
        "\r\n",
        "newsframe[\"content\"]=np.zeros(len(newsframe.iloc[:,1]))\r\n",
        "\r\n",
        "g = Goose()\r\n",
        "\r\n",
        "\r\n",
        "with Goose({'http_timeout': 5.0}) as g:\r\n",
        "    pass\r\n",
        "for i in range(0,1000):\r\n",
        "  try:\r\n",
        "    newsframe.iloc[i,7]=(g.extract(url=newsframe.iloc[i,5])).cleaned_text\r\n",
        "  except:\r\n",
        "    newsframe.iloc[i,7]=\"Missing_Article\"\r\n",
        "\r\n",
        "#newsframe.to_csv('/content/drive/My Drive/googlenews4507.csv')\r\n",
        "#Use the above line to create a csv file in your drive\r\n",
        "\r\n"
      ],
      "execution_count": null,
      "outputs": []
    },
    {
      "cell_type": "markdown",
      "metadata": {
        "id": "hnu5oi_lGuy_"
      },
      "source": [
        "3. GDELT"
      ]
    },
    {
      "cell_type": "code",
      "metadata": {
        "id": "0C-mOT1Ks-TM",
        "colab": {
          "base_uri": "https://localhost:8080/"
        },
        "outputId": "e643d9ae-6cc8-4e9f-f7ea-2d6d0927deda"
      },
      "source": [
        "#!pip install goose3\n",
        "from goose3 import Goose\n",
        "from goose3.configuration import Configuration\n",
        "\n",
        "import numpy as np\n",
        "\n",
        "df = pd.read_csv('/content/drive/My Drive/jan24newslinks_new.csv')\n",
        "\n",
        "df[\"Content\"]=np.zeros(len(df.iloc[:,1]))\n",
        "df[\"Title\"]=np.zeros(len(df.iloc[:,1]))\n",
        "df[\"Domain\"]=np.zeros(len(df.iloc[:,1]))\n",
        "\n",
        "\n",
        "g = Goose()\n",
        "\n",
        "\n",
        "with Goose({'http_timeout': 5.0}) as g:\n",
        "    pass\n",
        "for i in range(0,1000):\n",
        "  try:\n",
        "    df.iloc[i,2]=(g.extract(url=df.iloc[i,1])).cleaned_text\n",
        "    df.iloc[i,3]=(g.extract(url=df.iloc[i,1])).title\n",
        "    df.iloc[i,4]=(g.extract(url=df.iloc[i,1])).domain\n",
        "  except:\n",
        "    df.iloc[i,2]=\"Missing_Article\"\n",
        "\n",
        "df.head"
      ],
      "execution_count": null,
      "outputs": [
        {
          "output_type": "stream",
          "text": [
            "Requirement already satisfied: goose3 in /usr/local/lib/python3.7/dist-packages (3.1.8)\n",
            "Requirement already satisfied: jieba in /usr/local/lib/python3.7/dist-packages (from goose3) (0.42.1)\n",
            "Requirement already satisfied: beautifulsoup4 in /usr/local/lib/python3.7/dist-packages (from goose3) (4.6.3)\n",
            "Requirement already satisfied: python-dateutil in /usr/local/lib/python3.7/dist-packages (from goose3) (2.8.1)\n",
            "Requirement already satisfied: requests in /usr/local/lib/python3.7/dist-packages (from goose3) (2.23.0)\n",
            "Requirement already satisfied: nltk in /usr/local/lib/python3.7/dist-packages (from goose3) (3.2.5)\n",
            "Requirement already satisfied: cssselect in /usr/local/lib/python3.7/dist-packages (from goose3) (1.1.0)\n",
            "Requirement already satisfied: lxml in /usr/local/lib/python3.7/dist-packages (from goose3) (4.2.6)\n",
            "Requirement already satisfied: Pillow in /usr/local/lib/python3.7/dist-packages (from goose3) (7.0.0)\n",
            "Requirement already satisfied: six>=1.5 in /usr/local/lib/python3.7/dist-packages (from python-dateutil->goose3) (1.15.0)\n",
            "Requirement already satisfied: idna<3,>=2.5 in /usr/local/lib/python3.7/dist-packages (from requests->goose3) (2.10)\n",
            "Requirement already satisfied: urllib3!=1.25.0,!=1.25.1,<1.26,>=1.21.1 in /usr/local/lib/python3.7/dist-packages (from requests->goose3) (1.24.3)\n",
            "Requirement already satisfied: certifi>=2017.4.17 in /usr/local/lib/python3.7/dist-packages (from requests->goose3) (2020.12.5)\n",
            "Requirement already satisfied: chardet<4,>=3.0.2 in /usr/local/lib/python3.7/dist-packages (from requests->goose3) (3.0.4)\n",
            "Mounted at /content/drive\n",
            "YA DINGUS\n"
          ],
          "name": "stdout"
        },
        {
          "output_type": "execute_result",
          "data": {
            "text/plain": [
              "<bound method NDFrame.head of        Unnamed: 0  ...                         Domain\n",
              "0               1  ...        www.dailymercury.com.au\n",
              "1               2  ...  www.sunshinecoastdaily.com.au\n",
              "2               3  ...            www.dailymail.co.uk\n",
              "3               4  ...       www.bankinfosecurity.com\n",
              "4               5  ...            www.fijivillage.com\n",
              "...           ...  ...                            ...\n",
              "13953       13954  ...                              0\n",
              "13954       13955  ...                              0\n",
              "13955       13956  ...                              0\n",
              "13956       13957  ...                              0\n",
              "13957       13958  ...                              0\n",
              "\n",
              "[13958 rows x 5 columns]>"
            ]
          },
          "metadata": {
            "tags": []
          },
          "execution_count": 4
        }
      ]
    },
    {
      "cell_type": "code",
      "metadata": {
        "id": "yhQvkAbD_-g1",
        "colab": {
          "base_uri": "https://localhost:8080/"
        },
        "outputId": "872f63af-f363-45f8-acb2-0d958faf425e"
      },
      "source": [
        "#df.iloc[0:1000,:].to_csv('/content/drive/My Drive/jan24content.csv')\r\n",
        "#df.iloc[0:5,1]\r\n",
        "#df['Domain']=df.iloc[:,1].str.extract('\\.(.+?)\\.')\r\n",
        "\r\n",
        "#df.iloc[0:1000,:].to_csv('/content/drive/My Drive/jan24contentfull.csv')\r\n",
        "#Use line above to write GDELT data to csv\r\n",
        "#df.columns"
      ],
      "execution_count": null,
      "outputs": [
        {
          "output_type": "execute_result",
          "data": {
            "text/plain": [
              "Index(['Unnamed: 0', 'x', 'Content', 'Title', 'Domain'], dtype='object')"
            ]
          },
          "metadata": {
            "tags": []
          },
          "execution_count": 7
        }
      ]
    },
    {
      "cell_type": "code",
      "metadata": {
        "id": "UKlapM-otNIT"
      },
      "source": [
        "# df['date'] = pd.to_datetime(df['date'])\n",
        "# day = '2020-04-01'\n",
        "# df_day = df[df['date']==pd.to_datetime(day)][['date', 'domain', 'title', 'content']]"
      ],
      "execution_count": null,
      "outputs": []
    }
  ]
}