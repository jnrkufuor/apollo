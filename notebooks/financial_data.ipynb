{
  "nbformat": 4,
  "nbformat_minor": 0,
  "metadata": {
    "language_info": {
      "codemirror_mode": {
        "name": "ipython",
        "version": 3
      },
      "file_extension": ".py",
      "mimetype": "text/x-python",
      "name": "python",
      "nbconvert_exporter": "python",
      "pygments_lexer": "ipython3",
      "version": "3.8.5"
    },
    "orig_nbformat": 2,
    "kernelspec": {
      "name": "python3",
      "display_name": "Python 3.8.5 64-bit ('graphene': conda)",
      "metadata": {
        "interpreter": {
          "hash": "9dff2717ffb2e72b494a8d43679fb25e814f87a1e0662ec9efecdd6816f16e5d"
        }
      }
    },
    "colab": {
      "name": "financial_data.ipynb",
      "provenance": []
    }
  },
  "cells": [
    {
      "cell_type": "markdown",
      "metadata": {
        "id": "IWKCpZRJDS9j"
      },
      "source": [
        "# Obtaining a list of equities tickers and the corresponding timeseries"
      ]
    },
    {
      "cell_type": "code",
      "metadata": {
        "id": "DzwE9cH7DS9r",
        "outputId": "0a12593a-708f-41a8-af27-ece29689f02b",
        "colab": {
          "base_uri": "https://localhost:8080/"
        }
      },
      "source": [
        "import os\n",
        "import random\n",
        "import numpy as np\n",
        "import pandas as pd\n",
        "\n",
        "import seaborn as sns\n",
        "sns.set(rc={'figure.figsize':(10,8)})\n",
        "import matplotlib.pyplot as plt\n",
        "\n",
        "import pandas_datareader.data as web\n",
        "from datetime import datetime\n",
        "from google.colab import drive\n",
        "drive.mount('/content/drive')"
      ],
      "execution_count": 1,
      "outputs": [
        {
          "output_type": "stream",
          "text": [
            "Mounted at /content/drive\n"
          ],
          "name": "stdout"
        }
      ]
    },
    {
      "cell_type": "code",
      "metadata": {
        "id": "sneUSy3mDS9s"
      },
      "source": [
        "# Configure filepaths for data storage\n",
        "data_dir = \"data\"\n",
        "gdata_dir =\"/content/drive/My Drive/Colab Notebooks/data/\"\n",
        "if not os.path.exists(data_dir):\n",
        "    os.makedirs(data_dir)"
      ],
      "execution_count": 23,
      "outputs": []
    },
    {
      "cell_type": "markdown",
      "metadata": {
        "id": "M8BEiEn4DS9s"
      },
      "source": [
        "## Get list of companies in Dow-Jones Industrial Average (DJIA)\n",
        "\n",
        "We will obtain and store the list of the constituents from Wikipedia."
      ]
    },
    {
      "cell_type": "code",
      "metadata": {
        "id": "4T-by9JDDS9t",
        "outputId": "dde1fe05-3147-4679-91b8-9870c991635c",
        "colab": {
          "base_uri": "https://localhost:8080/"
        }
      },
      "source": [
        "today = datetime.today().strftime('%Y-%m-%d')\n",
        "print(today)\n",
        "\n",
        "data    = pd.read_html('https://en.wikipedia.org/wiki/Dow_Jones_Industrial_Average#Components')\n",
        "table   = data[1]\n",
        "symbols = list(table.Symbol.values)\n",
        "df = pd.DataFrame(symbols, columns=['Symbol'])\n",
        "\n",
        "print(\"{} symbols in total\".format(len(df)))"
      ],
      "execution_count": 24,
      "outputs": [
        {
          "output_type": "stream",
          "text": [
            "2021-04-01\n",
            "30 symbols in total\n"
          ],
          "name": "stdout"
        }
      ]
    },
    {
      "cell_type": "markdown",
      "metadata": {
        "id": "4vk590VGDS9u"
      },
      "source": [
        "## Download price timeseries\n",
        "\n",
        "Now that we have a list of ticker symbols, we can download the corresponding timeseries from Yahoo Finance."
      ]
    },
    {
      "cell_type": "code",
      "metadata": {
        "id": "wqPtkWKPDS9u",
        "outputId": "856dcd0c-4373-44a0-cf38-ce2fb19ba045",
        "colab": {
          "base_uri": "https://localhost:8080/"
        }
      },
      "source": [
        "start_date = '2000-01-01'\n",
        "end_date  = '2020-12-31'\n",
        "\n",
        "symbols = sorted(symbols)\n",
        "print(\"Downloading {} files\".format(len(symbols)))\n",
        "for i, symbol in enumerate(symbols):\n",
        "    try:\n",
        "        df = web.DataReader(symbol,'yahoo', start_date, end_date)\n",
        "        df = df[['Adj Close','Volume']]\n",
        "        df.to_csv(os.path.join(data_dir, \"{}.csv\".format(symbol)))\n",
        "        df.to_csv(gdata_dir+symbol+\".csv\")\n",
        "    except KeyError:\n",
        "      print(\"Error for {}\".format(symbol))\n",
        "      pass\n",
        "print(\"Stored {} files\".format(i+1))"
      ],
      "execution_count": 26,
      "outputs": [
        {
          "output_type": "stream",
          "text": [
            "Downloading 30 files\n",
            "Stored 30 files\n"
          ],
          "name": "stdout"
        }
      ]
    },
    {
      "cell_type": "code",
      "metadata": {
        "id": "t6bFxpZXDS9v",
        "outputId": "1922bb68-056a-4b31-f808-e09ca85c6fb9",
        "colab": {
          "base_uri": "https://localhost:8080/",
          "height": 252
        }
      },
      "source": [
        "# Printing a sample dataframe\n",
        "idx = np.random.randint(len(symbols))\n",
        "print(\"History for {}\".format(symbols[idx]))\n",
        "df = pd.read_csv(os.path.join(data_dir, symbols[idx]+\".csv\")).set_index('Date')\n",
        "df.head()"
      ],
      "execution_count": 28,
      "outputs": [
        {
          "output_type": "stream",
          "text": [
            "History for DOW\n"
          ],
          "name": "stdout"
        },
        {
          "output_type": "execute_result",
          "data": {
            "text/html": [
              "<div>\n",
              "<style scoped>\n",
              "    .dataframe tbody tr th:only-of-type {\n",
              "        vertical-align: middle;\n",
              "    }\n",
              "\n",
              "    .dataframe tbody tr th {\n",
              "        vertical-align: top;\n",
              "    }\n",
              "\n",
              "    .dataframe thead th {\n",
              "        text-align: right;\n",
              "    }\n",
              "</style>\n",
              "<table border=\"1\" class=\"dataframe\">\n",
              "  <thead>\n",
              "    <tr style=\"text-align: right;\">\n",
              "      <th></th>\n",
              "      <th>Adj Close</th>\n",
              "      <th>Volume</th>\n",
              "    </tr>\n",
              "    <tr>\n",
              "      <th>Date</th>\n",
              "      <th></th>\n",
              "      <th></th>\n",
              "    </tr>\n",
              "  </thead>\n",
              "  <tbody>\n",
              "    <tr>\n",
              "      <th>2019-03-20</th>\n",
              "      <td>44.312790</td>\n",
              "      <td>2350800.0</td>\n",
              "    </tr>\n",
              "    <tr>\n",
              "      <th>2019-03-21</th>\n",
              "      <td>43.583141</td>\n",
              "      <td>1764700.0</td>\n",
              "    </tr>\n",
              "    <tr>\n",
              "      <th>2019-03-22</th>\n",
              "      <td>43.245010</td>\n",
              "      <td>844700.0</td>\n",
              "    </tr>\n",
              "    <tr>\n",
              "      <th>2019-03-25</th>\n",
              "      <td>43.734417</td>\n",
              "      <td>440900.0</td>\n",
              "    </tr>\n",
              "    <tr>\n",
              "      <th>2019-03-26</th>\n",
              "      <td>43.467468</td>\n",
              "      <td>504700.0</td>\n",
              "    </tr>\n",
              "  </tbody>\n",
              "</table>\n",
              "</div>"
            ],
            "text/plain": [
              "            Adj Close     Volume\n",
              "Date                            \n",
              "2019-03-20  44.312790  2350800.0\n",
              "2019-03-21  43.583141  1764700.0\n",
              "2019-03-22  43.245010   844700.0\n",
              "2019-03-25  43.734417   440900.0\n",
              "2019-03-26  43.467468   504700.0"
            ]
          },
          "metadata": {
            "tags": []
          },
          "execution_count": 28
        }
      ]
    },
    {
      "cell_type": "markdown",
      "metadata": {
        "id": "kD0753LmDS9w"
      },
      "source": [
        "## Pre-process Financial Timeseries"
      ]
    },
    {
      "cell_type": "code",
      "metadata": {
        "id": "-8SG7KZ-DS9w"
      },
      "source": [
        "index = pd.date_range(start=start_date, end=end_date, freq='D')     # initialize an empty DateTime Index\n",
        "df_price = pd.DataFrame(index=index, columns=symbols)               # initialize empty dataframes\n",
        "df_volume = pd.DataFrame(index=index, columns=symbols)"
      ],
      "execution_count": 29,
      "outputs": []
    },
    {
      "cell_type": "code",
      "metadata": {
        "id": "rlLBxGaaDS9w"
      },
      "source": [
        "# Aggregate all symbols into a price dataframe and volume dataframe\n",
        "for symbol in symbols:\n",
        "    symbol_df = pd.read_csv(os.path.join(data_dir, symbol+\".csv\")).set_index('Date')\n",
        "    symbol_df.index = pd.to_datetime(symbol_df.index)\n",
        "\n",
        "    df_price[symbol] = symbol_df['Adj Close']\n",
        "    df_volume[symbol] = symbol_df['Volume']"
      ],
      "execution_count": 30,
      "outputs": []
    },
    {
      "cell_type": "markdown",
      "metadata": {
        "id": "-oDtqBPGDS9x"
      },
      "source": [
        "### Removing NaNs"
      ]
    },
    {
      "cell_type": "code",
      "metadata": {
        "id": "jwb270ooDS9x"
      },
      "source": [
        "# Let's drop the dates where all the stocks are NaNs, ie., weekends/holidays where no trading occured\n",
        "df_price.dropna(how='all', inplace=True)\n",
        "df_volume.dropna(how='all', inplace=True)\n",
        "assert((df_price.index == df_volume.index).all())"
      ],
      "execution_count": 31,
      "outputs": []
    },
    {
      "cell_type": "markdown",
      "metadata": {
        "id": "HeWHvytLDS9x"
      },
      "source": [
        "Let's see how many NaNs exist at this point, as some companies would've gone public later than others (so they won't have equally long price histories)"
      ]
    },
    {
      "cell_type": "code",
      "metadata": {
        "id": "L0mLhJSwDS9x",
        "outputId": "6bd2233c-40c2-423e-a4e3-5ee8625dc9ff",
        "colab": {
          "base_uri": "https://localhost:8080/"
        }
      },
      "source": [
        "pd.isnull(df_price).sum()"
      ],
      "execution_count": 32,
      "outputs": [
        {
          "output_type": "execute_result",
          "data": {
            "text/plain": [
              "AAPL       0\n",
              "AMGN       0\n",
              "AXP        0\n",
              "BA         0\n",
              "CAT        0\n",
              "CRM     1122\n",
              "CSCO       0\n",
              "CVX        0\n",
              "DIS        0\n",
              "DOW     4832\n",
              "GS         0\n",
              "HD         0\n",
              "HON        0\n",
              "IBM        0\n",
              "INTC       0\n",
              "JNJ        0\n",
              "JPM        0\n",
              "KO         0\n",
              "MCD        0\n",
              "MMM        0\n",
              "MRK        0\n",
              "MSFT       0\n",
              "NKE        0\n",
              "PG         0\n",
              "TRV        0\n",
              "UNH        0\n",
              "V       2063\n",
              "VZ         0\n",
              "WBA        0\n",
              "WMT        0\n",
              "dtype: int64"
            ]
          },
          "metadata": {
            "tags": []
          },
          "execution_count": 32
        }
      ]
    },
    {
      "cell_type": "code",
      "metadata": {
        "id": "1x78ITB4DS9y"
      },
      "source": [
        "# Backfill NaNs followed by forward fill\n",
        "df_price = df_price.bfill(axis='rows')   \n",
        "df_price = df_price.ffill(axis='rows')"
      ],
      "execution_count": 33,
      "outputs": []
    },
    {
      "cell_type": "code",
      "metadata": {
        "id": "tQLyeU9FDS9y",
        "outputId": "bd15eadd-eeac-403b-841b-28c8e55648dc",
        "colab": {
          "base_uri": "https://localhost:8080/"
        }
      },
      "source": [
        "pd.isnull(df_price).sum()"
      ],
      "execution_count": 19,
      "outputs": [
        {
          "output_type": "execute_result",
          "data": {
            "text/plain": [
              "AAPL    0\n",
              "AMGN    0\n",
              "AXP     0\n",
              "BA      0\n",
              "CAT     0\n",
              "CRM     0\n",
              "CSCO    0\n",
              "CVX     0\n",
              "DIS     0\n",
              "DOW     0\n",
              "GS      0\n",
              "HD      0\n",
              "HON     0\n",
              "IBM     0\n",
              "INTC    0\n",
              "JNJ     0\n",
              "JPM     0\n",
              "KO      0\n",
              "MCD     0\n",
              "MMM     0\n",
              "MRK     0\n",
              "MSFT    0\n",
              "NKE     0\n",
              "PG      0\n",
              "TRV     0\n",
              "UNH     0\n",
              "V       0\n",
              "VZ      0\n",
              "WBA     0\n",
              "WMT     0\n",
              "dtype: int64"
            ]
          },
          "metadata": {
            "tags": []
          },
          "execution_count": 19
        }
      ]
    },
    {
      "cell_type": "markdown",
      "metadata": {
        "id": "WzmiQzKMDS9y"
      },
      "source": [
        "### Storing the cleaned dataframes"
      ]
    },
    {
      "cell_type": "code",
      "metadata": {
        "id": "yDueQLL3DS9z"
      },
      "source": [
        "df_price.to_csv(gdata_dir+\"prices.csv\")\n",
        "df_volume.to_csv(gdata_dir+\"volume.csv\")\n",
        "df_price.to_csv(os.path.join(data_dir, \"prices.csv\"))\n",
        "df_volume.to_csv(os.path.join(data_dir, \"volume.csv\"))"
      ],
      "execution_count": 48,
      "outputs": []
    },
    {
      "cell_type": "markdown",
      "metadata": {
        "id": "lIkozobhDS9z"
      },
      "source": [
        "## Obtain Percentage Change and Correlation\n",
        "\n",
        "We need to convert prices to percent change in price as opposed to the actual \\$ price. This is because stocks with very similar prices can behave very differently and vice-versa.\n",
        "For e.g., if a stock moves from $100 to $110, we want the price column to say 10% (indicating the change).\n",
        "\n",
        "However, for volume, we will retain magnitude."
      ]
    },
    {
      "cell_type": "code",
      "metadata": {
        "id": "NIAwGanZDS9z"
      },
      "source": [
        "df_price_pct = df_price.pct_change().dropna(how='all')\n",
        "df_volume_pct = df_volume.pct_change().dropna(how='all')"
      ],
      "execution_count": 49,
      "outputs": []
    },
    {
      "cell_type": "markdown",
      "metadata": {
        "id": "5slhXmH4DS9z"
      },
      "source": [
        "### Calculate Correlations"
      ]
    },
    {
      "cell_type": "code",
      "metadata": {
        "id": "VvIOhVsXDS90"
      },
      "source": [
        "price_corr = df_price_pct.corr()\n",
        "volume_corr = df_volume.corr()"
      ],
      "execution_count": 50,
      "outputs": []
    },
    {
      "cell_type": "code",
      "metadata": {
        "id": "-o7FIeAqDS90",
        "outputId": "a943855d-b42e-4cfa-ff4f-9ba23b5854a2",
        "colab": {
          "base_uri": "https://localhost:8080/",
          "height": 322
        }
      },
      "source": [
        "sns.heatmap(volume_corr).set_title(\"Correlation heatmap for Volume\")"
      ],
      "execution_count": 51,
      "outputs": [
        {
          "output_type": "execute_result",
          "data": {
            "text/plain": [
              "Text(0.5, 1.0, 'Correlation heatmap for Volume')"
            ]
          },
          "metadata": {
            "tags": []
          },
          "execution_count": 51
        },
        {
          "output_type": "display_data",
          "data": {
            "image/png": "[encoded data removed]",
            "text/plain": [
              "<Figure size 432x288 with 2 Axes>"
            ]
          },
          "metadata": {
            "tags": [],
            "needs_background": "light"
          }
        }
      ]
    },
    {
      "cell_type": "code",
      "metadata": {
        "id": "iS9nR53lDS90",
        "outputId": "651bdbda-5a10-4664-ce5d-3ef3ea95138d",
        "colab": {
          "base_uri": "https://localhost:8080/",
          "height": 322
        }
      },
      "source": [
        "sns.heatmap(price_corr).set_title(\"Correlation heatmap for Price Changes\")"
      ],
      "execution_count": 52,
      "outputs": [
        {
          "output_type": "execute_result",
          "data": {
            "text/plain": [
              "Text(0.5, 1.0, 'Correlation heatmap for Price Changes')"
            ]
          },
          "metadata": {
            "tags": []
          },
          "execution_count": 52
        },
        {
          "output_type": "display_data",
          "data": {
            "image/png": "[encoded data removed]",
            "text/plain": [
              "<Figure size 432x288 with 2 Axes>"
            ]
          },
          "metadata": {
            "tags": [],
            "needs_background": "light"
          }
        }
      ]
    },
    {
      "cell_type": "markdown",
      "metadata": {
        "id": "hrwjNUSfDS91"
      },
      "source": [
        "### Examining correlations further\n",
        "As we can see above, the price histories of JP Morgan (JPM) and Goldman Sachs (GS) are highly correlated. This makes sense as they are both financial sector stocks. That forms the motivation behind using correlation to form the graph.\n",
        "\n",
        "This can be observed in the plots below."
      ]
    },
    {
      "cell_type": "code",
      "metadata": {
        "id": "hgkCoGFTDS91",
        "outputId": "1877d3fb-186c-4c60-b1a1-ce6f2913b356",
        "colab": {
          "base_uri": "https://localhost:8080/",
          "height": 355
        }
      },
      "source": [
        "plt.figure(figsize=(5,5))\n",
        "plt.scatter(df_price_pct['JPM'], df_price_pct['GS'])\n",
        "plt.title('Price Change Scatterplot between JPM and GS. Correlation = {}'.format(price_corr['JPM']['GS']))"
      ],
      "execution_count": 53,
      "outputs": [
        {
          "output_type": "execute_result",
          "data": {
            "text/plain": [
              "Text(0.5, 1.0, 'Price Change Scatterplot between JPM and GS. Correlation = 0.7210607728876005')"
            ]
          },
          "metadata": {
            "tags": []
          },
          "execution_count": 53
        },
        {
          "output_type": "display_data",
          "data": {
            "image/png": "[encoded data removed]",
            "text/plain": [
              "<Figure size 360x360 with 1 Axes>"
            ]
          },
          "metadata": {
            "tags": [],
            "needs_background": "light"
          }
        }
      ]
    },
    {
      "cell_type": "code",
      "metadata": {
        "id": "S5oga-GuDS91",
        "outputId": "449e31bc-476e-4384-ec2d-9b801d839d65",
        "colab": {
          "base_uri": "https://localhost:8080/",
          "height": 301
        }
      },
      "source": [
        "plt.title('JPM and GS price change histories')\n",
        "plt.plot(df_price_pct['JPM'], label='JPM', linewidth=0.5)\n",
        "plt.plot(df_price_pct['GS'], label='GS', linewidth=0.5)\n",
        "plt.legend()"
      ],
      "execution_count": 54,
      "outputs": [
        {
          "output_type": "execute_result",
          "data": {
            "text/plain": [
              "<matplotlib.legend.Legend at 0x7fb2fbfcfa10>"
            ]
          },
          "metadata": {
            "tags": []
          },
          "execution_count": 54
        },
        {
          "output_type": "display_data",
          "data": {
            "image/png": "[encoded data removed]",
            "text/plain": [
              "<Figure size 432x288 with 1 Axes>"
            ]
          },
          "metadata": {
            "tags": [],
            "needs_background": "light"
          }
        }
      ]
    },
    {
      "cell_type": "markdown",
      "metadata": {
        "id": "LBho6R-nDS91"
      },
      "source": [
        "## Saving correlation dataframes"
      ]
    },
    {
      "cell_type": "code",
      "metadata": {
        "id": "Gp0uUDdeDS92"
      },
      "source": [
        "df_price_pct.to_csv(os.path.join(data_dir, 'price_pct.csv'))\n",
        "price_corr.to_csv(os.path.join(data_dir, 'price_corr.csv'))\n",
        "volume_corr.to_csv(os.path.join(data_dir, 'volume_corr.csv'))\n",
        "df_price_pct.to_csv(gdata_dir+'price_pct.csv')\n",
        "price_corr.to_csv(gdata_dir+'price_corr.csv')\n",
        "volume_corr.to_csv(gdata_dir+'volume_corr.csv')"
      ],
      "execution_count": 55,
      "outputs": []
    },
    {
      "cell_type": "markdown",
      "metadata": {
        "id": "rzeqA062DS92"
      },
      "source": [
        "### You can now use these correlations to create graphs. "
      ]
    },
    {
      "cell_type": "code",
      "metadata": {
        "id": "voV-QEyJDS92"
      },
      "source": [
        ""
      ],
      "execution_count": null,
      "outputs": []
    }
  ]
}