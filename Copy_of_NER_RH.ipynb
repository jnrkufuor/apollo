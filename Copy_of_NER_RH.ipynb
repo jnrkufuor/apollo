{
  "nbformat": 4,
  "nbformat_minor": 0,
  "metadata": {
    "colab": {
      "name": "Copy of NER_RH.ipynb",
      "provenance": [],
      "collapsed_sections": [],
      "include_colab_link": true
    },
    "kernelspec": {
      "name": "python3",
      "display_name": "Python 3"
    },
    "widgets": {
      "application/vnd.jupyter.widget-state+json": {
        "1bf4b162f5da4051b1b44197fd75e387": {
          "model_module": "@jupyter-widgets/controls",
          "model_name": "HBoxModel",
          "state": {
            "_view_name": "HBoxView",
            "_dom_classes": [],
            "_model_name": "HBoxModel",
            "_view_module": "@jupyter-widgets/controls",
            "_model_module_version": "1.5.0",
            "_view_count": null,
            "_view_module_version": "1.5.0",
            "box_style": "",
            "layout": "IPY_MODEL_dbed4bcfe20b43b5a1b8e8193608f02d",
            "_model_module": "@jupyter-widgets/controls",
            "children": [
              "IPY_MODEL_50109420c8a1406c891c22354b2ae0c8",
              "IPY_MODEL_9639d3fd25894c9ba888bbd0e18737e4"
            ]
          }
        },
        "dbed4bcfe20b43b5a1b8e8193608f02d": {
          "model_module": "@jupyter-widgets/base",
          "model_name": "LayoutModel",
          "state": {
            "_view_name": "LayoutView",
            "grid_template_rows": null,
            "right": null,
            "justify_content": null,
            "_view_module": "@jupyter-widgets/base",
            "overflow": null,
            "_model_module_version": "1.2.0",
            "_view_count": null,
            "flex_flow": null,
            "width": null,
            "min_width": null,
            "border": null,
            "align_items": null,
            "bottom": null,
            "_model_module": "@jupyter-widgets/base",
            "top": null,
            "grid_column": null,
            "overflow_y": null,
            "overflow_x": null,
            "grid_auto_flow": null,
            "grid_area": null,
            "grid_template_columns": null,
            "flex": null,
            "_model_name": "LayoutModel",
            "justify_items": null,
            "grid_row": null,
            "max_height": null,
            "align_content": null,
            "visibility": null,
            "align_self": null,
            "height": null,
            "min_height": null,
            "padding": null,
            "grid_auto_rows": null,
            "grid_gap": null,
            "max_width": null,
            "order": null,
            "_view_module_version": "1.2.0",
            "grid_template_areas": null,
            "object_position": null,
            "object_fit": null,
            "grid_auto_columns": null,
            "margin": null,
            "display": null,
            "left": null
          }
        },
        "50109420c8a1406c891c22354b2ae0c8": {
          "model_module": "@jupyter-widgets/controls",
          "model_name": "FloatProgressModel",
          "state": {
            "_view_name": "ProgressView",
            "style": "IPY_MODEL_0a7eb5a9ab0d45bcaa886605b02f8357",
            "_dom_classes": [],
            "description": "Downloading: 100%",
            "_model_name": "FloatProgressModel",
            "bar_style": "success",
            "max": 432176557,
            "_view_module": "@jupyter-widgets/controls",
            "_model_module_version": "1.5.0",
            "value": 432176557,
            "_view_count": null,
            "_view_module_version": "1.5.0",
            "orientation": "horizontal",
            "min": 0,
            "description_tooltip": null,
            "_model_module": "@jupyter-widgets/controls",
            "layout": "IPY_MODEL_c1204f406f6046a081907b29dda9a537"
          }
        },
        "9639d3fd25894c9ba888bbd0e18737e4": {
          "model_module": "@jupyter-widgets/controls",
          "model_name": "HTMLModel",
          "state": {
            "_view_name": "HTMLView",
            "style": "IPY_MODEL_989dbb6834124cf29fa8583738ad8de5",
            "_dom_classes": [],
            "description": "",
            "_model_name": "HTMLModel",
            "placeholder": "​",
            "_view_module": "@jupyter-widgets/controls",
            "_model_module_version": "1.5.0",
            "value": " 432M/432M [00:11&lt;00:00, 37.0MB/s]",
            "_view_count": null,
            "_view_module_version": "1.5.0",
            "description_tooltip": null,
            "_model_module": "@jupyter-widgets/controls",
            "layout": "IPY_MODEL_7bace544077e4da9a503940da0d7744a"
          }
        },
        "0a7eb5a9ab0d45bcaa886605b02f8357": {
          "model_module": "@jupyter-widgets/controls",
          "model_name": "ProgressStyleModel",
          "state": {
            "_view_name": "StyleView",
            "_model_name": "ProgressStyleModel",
            "description_width": "initial",
            "_view_module": "@jupyter-widgets/base",
            "_model_module_version": "1.5.0",
            "_view_count": null,
            "_view_module_version": "1.2.0",
            "bar_color": null,
            "_model_module": "@jupyter-widgets/controls"
          }
        },
        "c1204f406f6046a081907b29dda9a537": {
          "model_module": "@jupyter-widgets/base",
          "model_name": "LayoutModel",
          "state": {
            "_view_name": "LayoutView",
            "grid_template_rows": null,
            "right": null,
            "justify_content": null,
            "_view_module": "@jupyter-widgets/base",
            "overflow": null,
            "_model_module_version": "1.2.0",
            "_view_count": null,
            "flex_flow": null,
            "width": null,
            "min_width": null,
            "border": null,
            "align_items": null,
            "bottom": null,
            "_model_module": "@jupyter-widgets/base",
            "top": null,
            "grid_column": null,
            "overflow_y": null,
            "overflow_x": null,
            "grid_auto_flow": null,
            "grid_area": null,
            "grid_template_columns": null,
            "flex": null,
            "_model_name": "LayoutModel",
            "justify_items": null,
            "grid_row": null,
            "max_height": null,
            "align_content": null,
            "visibility": null,
            "align_self": null,
            "height": null,
            "min_height": null,
            "padding": null,
            "grid_auto_rows": null,
            "grid_gap": null,
            "max_width": null,
            "order": null,
            "_view_module_version": "1.2.0",
            "grid_template_areas": null,
            "object_position": null,
            "object_fit": null,
            "grid_auto_columns": null,
            "margin": null,
            "display": null,
            "left": null
          }
        },
        "989dbb6834124cf29fa8583738ad8de5": {
          "model_module": "@jupyter-widgets/controls",
          "model_name": "DescriptionStyleModel",
          "state": {
            "_view_name": "StyleView",
            "_model_name": "DescriptionStyleModel",
            "description_width": "",
            "_view_module": "@jupyter-widgets/base",
            "_model_module_version": "1.5.0",
            "_view_count": null,
            "_view_module_version": "1.2.0",
            "_model_module": "@jupyter-widgets/controls"
          }
        },
        "7bace544077e4da9a503940da0d7744a": {
          "model_module": "@jupyter-widgets/base",
          "model_name": "LayoutModel",
          "state": {
            "_view_name": "LayoutView",
            "grid_template_rows": null,
            "right": null,
            "justify_content": null,
            "_view_module": "@jupyter-widgets/base",
            "overflow": null,
            "_model_module_version": "1.2.0",
            "_view_count": null,
            "flex_flow": null,
            "width": null,
            "min_width": null,
            "border": null,
            "align_items": null,
            "bottom": null,
            "_model_module": "@jupyter-widgets/base",
            "top": null,
            "grid_column": null,
            "overflow_y": null,
            "overflow_x": null,
            "grid_auto_flow": null,
            "grid_area": null,
            "grid_template_columns": null,
            "flex": null,
            "_model_name": "LayoutModel",
            "justify_items": null,
            "grid_row": null,
            "max_height": null,
            "align_content": null,
            "visibility": null,
            "align_self": null,
            "height": null,
            "min_height": null,
            "padding": null,
            "grid_auto_rows": null,
            "grid_gap": null,
            "max_width": null,
            "order": null,
            "_view_module_version": "1.2.0",
            "grid_template_areas": null,
            "object_position": null,
            "object_fit": null,
            "grid_auto_columns": null,
            "margin": null,
            "display": null,
            "left": null
          }
        }
      }
    }
  },
  "cells": [
    {
      "cell_type": "markdown",
      "metadata": {
        "id": "view-in-github",
        "colab_type": "text"
      },
      "source": [
        "<a href=\"https://colab.research.google.com/github/jnrkufuor/apollo/blob/Eric/Copy_of_NER_RH.ipynb\" target=\"_parent\"><img src=\"https://colab.research.google.com/assets/colab-badge.svg\" alt=\"Open In Colab\"/></a>"
      ]
    },
    {
      "cell_type": "markdown",
      "metadata": {
        "id": "t6t6hNXOGj1e"
      },
      "source": [
        "## 1. Import Packages"
      ]
    },
    {
      "cell_type": "code",
      "metadata": {
        "id": "U5ZuA0rtr7_N",
        "colab": {
          "base_uri": "https://localhost:8080/"
        },
        "outputId": "7bf3c228-4104-4992-c576-d304e15ffb4c"
      },
      "source": [
        "# install flair\n",
        "!pip install flair\n",
        "\n",
        "# load basic packages\n",
        "import pandas as pd\n",
        "from itertools import combinations, product\n",
        "import string\n",
        "import re\n",
        "import networkx as nx\n",
        "import matplotlib.pyplot as plt\n",
        "import seaborn as sns\n",
        "\n",
        "from tqdm import tqdm\n",
        "\n",
        "# load Flair and NLTK\n",
        "import torch\n",
        "from flair.data import Sentence\n",
        "from flair.models import SequenceTagger\n",
        "from nltk import tokenize\n",
        "\n",
        "import nltk\n",
        "nltk.download('punkt')\n",
        "\n",
        "# is cuda available?\n",
        "torch.cuda.is_available()"
      ],
      "execution_count": 40,
      "outputs": [
        {
          "output_type": "stream",
          "text": [
            "Requirement already satisfied: flair in /usr/local/lib/python3.7/dist-packages (0.8.0.post1)\n",
            "Requirement already satisfied: transformers>=4.0.0 in /usr/local/lib/python3.7/dist-packages (from flair) (4.4.2)\n",
            "Requirement already satisfied: huggingface-hub in /usr/local/lib/python3.7/dist-packages (from flair) (0.0.7)\n",
            "Requirement already satisfied: torch<=1.7.1,>=1.5.0 in /usr/local/lib/python3.7/dist-packages (from flair) (1.7.1)\n",
            "Requirement already satisfied: hyperopt>=0.1.1 in /usr/local/lib/python3.7/dist-packages (from flair) (0.1.2)\n",
            "Requirement already satisfied: gensim<=3.8.3,>=3.4.0 in /usr/local/lib/python3.7/dist-packages (from flair) (3.6.0)\n",
            "Requirement already satisfied: python-dateutil>=2.6.1 in /usr/local/lib/python3.7/dist-packages (from flair) (2.8.1)\n",
            "Requirement already satisfied: segtok>=1.5.7 in /usr/local/lib/python3.7/dist-packages (from flair) (1.5.10)\n",
            "Requirement already satisfied: regex in /usr/local/lib/python3.7/dist-packages (from flair) (2019.12.20)\n",
            "Requirement already satisfied: gdown==3.12.2 in /usr/local/lib/python3.7/dist-packages (from flair) (3.12.2)\n",
            "Requirement already satisfied: tabulate in /usr/local/lib/python3.7/dist-packages (from flair) (0.8.9)\n",
            "Requirement already satisfied: numpy<1.20.0 in /usr/local/lib/python3.7/dist-packages (from flair) (1.19.5)\n",
            "Requirement already satisfied: langdetect in /usr/local/lib/python3.7/dist-packages (from flair) (1.0.8)\n",
            "Requirement already satisfied: bpemb>=0.3.2 in /usr/local/lib/python3.7/dist-packages (from flair) (0.3.2)\n",
            "Requirement already satisfied: ftfy in /usr/local/lib/python3.7/dist-packages (from flair) (5.9)\n",
            "Requirement already satisfied: janome in /usr/local/lib/python3.7/dist-packages (from flair) (0.4.1)\n",
            "Requirement already satisfied: mpld3==0.3 in /usr/local/lib/python3.7/dist-packages (from flair) (0.3)\n",
            "Requirement already satisfied: lxml in /usr/local/lib/python3.7/dist-packages (from flair) (4.2.6)\n",
            "Requirement already satisfied: konoha<5.0.0,>=4.0.0 in /usr/local/lib/python3.7/dist-packages (from flair) (4.6.4)\n",
            "Requirement already satisfied: deprecated>=1.2.4 in /usr/local/lib/python3.7/dist-packages (from flair) (1.2.12)\n",
            "Requirement already satisfied: sentencepiece==0.1.95 in /usr/local/lib/python3.7/dist-packages (from flair) (0.1.95)\n",
            "Requirement already satisfied: tqdm>=4.26.0 in /usr/local/lib/python3.7/dist-packages (from flair) (4.41.1)\n",
            "Requirement already satisfied: scikit-learn>=0.21.3 in /usr/local/lib/python3.7/dist-packages (from flair) (0.22.2.post1)\n",
            "Requirement already satisfied: matplotlib>=2.2.3 in /usr/local/lib/python3.7/dist-packages (from flair) (3.2.2)\n",
            "Requirement already satisfied: sqlitedict>=1.6.0 in /usr/local/lib/python3.7/dist-packages (from flair) (1.7.0)\n",
            "Requirement already satisfied: tokenizers<0.11,>=0.10.1 in /usr/local/lib/python3.7/dist-packages (from transformers>=4.0.0->flair) (0.10.1)\n",
            "Requirement already satisfied: packaging in /usr/local/lib/python3.7/dist-packages (from transformers>=4.0.0->flair) (20.9)\n",
            "Requirement already satisfied: requests in /usr/local/lib/python3.7/dist-packages (from transformers>=4.0.0->flair) (2.23.0)\n",
            "Requirement already satisfied: importlib-metadata; python_version < \"3.8\" in /usr/local/lib/python3.7/dist-packages (from transformers>=4.0.0->flair) (3.7.2)\n",
            "Requirement already satisfied: filelock in /usr/local/lib/python3.7/dist-packages (from transformers>=4.0.0->flair) (3.0.12)\n",
            "Requirement already satisfied: sacremoses in /usr/local/lib/python3.7/dist-packages (from transformers>=4.0.0->flair) (0.0.43)\n",
            "Requirement already satisfied: typing-extensions in /usr/local/lib/python3.7/dist-packages (from torch<=1.7.1,>=1.5.0->flair) (3.7.4.3)\n",
            "Requirement already satisfied: pymongo in /usr/local/lib/python3.7/dist-packages (from hyperopt>=0.1.1->flair) (3.11.3)\n",
            "Requirement already satisfied: future in /usr/local/lib/python3.7/dist-packages (from hyperopt>=0.1.1->flair) (0.16.0)\n",
            "Requirement already satisfied: networkx in /usr/local/lib/python3.7/dist-packages (from hyperopt>=0.1.1->flair) (2.5)\n",
            "Requirement already satisfied: scipy in /usr/local/lib/python3.7/dist-packages (from hyperopt>=0.1.1->flair) (1.4.1)\n",
            "Requirement already satisfied: six in /usr/local/lib/python3.7/dist-packages (from hyperopt>=0.1.1->flair) (1.15.0)\n",
            "Requirement already satisfied: smart-open>=1.2.1 in /usr/local/lib/python3.7/dist-packages (from gensim<=3.8.3,>=3.4.0->flair) (4.2.0)\n",
            "Requirement already satisfied: wcwidth in /usr/local/lib/python3.7/dist-packages (from ftfy->flair) (0.2.5)\n",
            "Requirement already satisfied: overrides<4.0.0,>=3.0.0 in /usr/local/lib/python3.7/dist-packages (from konoha<5.0.0,>=4.0.0->flair) (3.1.0)\n",
            "Requirement already satisfied: wrapt<2,>=1.10 in /usr/local/lib/python3.7/dist-packages (from deprecated>=1.2.4->flair) (1.12.1)\n",
            "Requirement already satisfied: joblib>=0.11 in /usr/local/lib/python3.7/dist-packages (from scikit-learn>=0.21.3->flair) (1.0.1)\n",
            "Requirement already satisfied: kiwisolver>=1.0.1 in /usr/local/lib/python3.7/dist-packages (from matplotlib>=2.2.3->flair) (1.3.1)\n",
            "Requirement already satisfied: cycler>=0.10 in /usr/local/lib/python3.7/dist-packages (from matplotlib>=2.2.3->flair) (0.10.0)\n",
            "Requirement already satisfied: pyparsing!=2.0.4,!=2.1.2,!=2.1.6,>=2.0.1 in /usr/local/lib/python3.7/dist-packages (from matplotlib>=2.2.3->flair) (2.4.7)\n",
            "Requirement already satisfied: chardet<4,>=3.0.2 in /usr/local/lib/python3.7/dist-packages (from requests->transformers>=4.0.0->flair) (3.0.4)\n",
            "Requirement already satisfied: certifi>=2017.4.17 in /usr/local/lib/python3.7/dist-packages (from requests->transformers>=4.0.0->flair) (2020.12.5)\n",
            "Requirement already satisfied: urllib3!=1.25.0,!=1.25.1,<1.26,>=1.21.1 in /usr/local/lib/python3.7/dist-packages (from requests->transformers>=4.0.0->flair) (1.24.3)\n",
            "Requirement already satisfied: idna<3,>=2.5 in /usr/local/lib/python3.7/dist-packages (from requests->transformers>=4.0.0->flair) (2.10)\n",
            "Requirement already satisfied: zipp>=0.5 in /usr/local/lib/python3.7/dist-packages (from importlib-metadata; python_version < \"3.8\"->transformers>=4.0.0->flair) (3.4.1)\n",
            "Requirement already satisfied: click in /usr/local/lib/python3.7/dist-packages (from sacremoses->transformers>=4.0.0->flair) (7.1.2)\n",
            "Requirement already satisfied: decorator>=4.3.0 in /usr/local/lib/python3.7/dist-packages (from networkx->hyperopt>=0.1.1->flair) (4.4.2)\n",
            "[nltk_data] Downloading package punkt to /root/nltk_data...\n",
            "[nltk_data]   Package punkt is already up-to-date!\n"
          ],
          "name": "stdout"
        },
        {
          "output_type": "execute_result",
          "data": {
            "text/plain": [
              "False"
            ]
          },
          "metadata": {
            "tags": []
          },
          "execution_count": 40
        }
      ]
    },
    {
      "cell_type": "markdown",
      "metadata": {
        "id": "3tTkOuVyGqJE"
      },
      "source": [
        "## 2. Load Flair NER model"
      ]
    },
    {
      "cell_type": "code",
      "metadata": {
        "id": "fr-vGUuDsoSV",
        "colab": {
          "base_uri": "https://localhost:8080/",
          "height": 186,
          "referenced_widgets": [
            "1bf4b162f5da4051b1b44197fd75e387",
            "dbed4bcfe20b43b5a1b8e8193608f02d",
            "50109420c8a1406c891c22354b2ae0c8",
            "9639d3fd25894c9ba888bbd0e18737e4",
            "0a7eb5a9ab0d45bcaa886605b02f8357",
            "c1204f406f6046a081907b29dda9a537",
            "989dbb6834124cf29fa8583738ad8de5",
            "7bace544077e4da9a503940da0d7744a"
          ]
        },
        "outputId": "800e50d9-3c58-4ec5-e589-78b9e880e6d4"
      },
      "source": [
        "#Load NER Model\n",
        "tagger = SequenceTagger.load('ner')"
      ],
      "execution_count": 3,
      "outputs": [
        {
          "output_type": "stream",
          "text": [
            "2021-03-19 06:29:49,095 --------------------------------------------------------------------------------\n",
            "2021-03-19 06:29:49,097 The model key 'ner' now maps to 'https://huggingface.co/flair/ner-english' on the HuggingFace ModelHub\n",
            "2021-03-19 06:29:49,098  - The most current version of the model is automatically downloaded from there.\n",
            "2021-03-19 06:29:49,099  - (you can alternatively manually download the original model at https://nlp.informatik.hu-berlin.de/resources/models/ner/en-ner-conll03-v0.4.pt)\n",
            "2021-03-19 06:29:49,100 --------------------------------------------------------------------------------\n"
          ],
          "name": "stdout"
        },
        {
          "output_type": "display_data",
          "data": {
            "application/vnd.jupyter.widget-view+json": {
              "model_id": "1bf4b162f5da4051b1b44197fd75e387",
              "version_minor": 0,
              "version_major": 2
            },
            "text/plain": [
              "HBox(children=(FloatProgress(value=0.0, description='Downloading', max=432176557.0, style=ProgressStyle(descri…"
            ]
          },
          "metadata": {
            "tags": []
          }
        },
        {
          "output_type": "stream",
          "text": [
            "\n",
            "2021-03-19 06:30:00,164 loading file /root/.flair/models/ner-english/4f4cdab26f24cb98b732b389e6cebc646c36f54cfd6e0b7d3b90b25656e4262f.8baa8ae8795f4df80b28e7f7b61d788ecbb057d1dc85aacb316f1bd02837a4a4\n"
          ],
          "name": "stdout"
        }
      ]
    },
    {
      "cell_type": "markdown",
      "metadata": {
        "id": "hnu5oi_lGuy_"
      },
      "source": [
        "## 3. Load Data"
      ]
    },
    {
      "cell_type": "code",
      "metadata": {
        "id": "0C-mOT1Ks-TM",
        "colab": {
          "base_uri": "https://localhost:8080/",
          "height": 942
        },
        "outputId": "05171094-d8db-42e9-dfae-4ddbecadf35a"
      },
      "source": [
        "from google.colab import drive\n",
        "drive.mount('/content/drive')\n",
        "df = pd.read_csv('/content/drive/My Drive/googlenews1000.csv')\n",
        "#Above two lines may have to be changed to import your data depending on where it is\n",
        "df"
      ],
      "execution_count": 7,
      "outputs": [
        {
          "output_type": "stream",
          "text": [
            "Drive already mounted at /content/drive; to attempt to forcibly remount, call drive.mount(\"/content/drive\", force_remount=True).\n"
          ],
          "name": "stdout"
        },
        {
          "output_type": "execute_result",
          "data": {
            "text/html": [
              "<div>\n",
              "<style scoped>\n",
              "    .dataframe tbody tr th:only-of-type {\n",
              "        vertical-align: middle;\n",
              "    }\n",
              "\n",
              "    .dataframe tbody tr th {\n",
              "        vertical-align: top;\n",
              "    }\n",
              "\n",
              "    .dataframe thead th {\n",
              "        text-align: right;\n",
              "    }\n",
              "</style>\n",
              "<table border=\"1\" class=\"dataframe\">\n",
              "  <thead>\n",
              "    <tr style=\"text-align: right;\">\n",
              "      <th></th>\n",
              "      <th>Unnamed: 0</th>\n",
              "      <th>title</th>\n",
              "      <th>media</th>\n",
              "      <th>date</th>\n",
              "      <th>datetime</th>\n",
              "      <th>desc</th>\n",
              "      <th>link</th>\n",
              "      <th>img</th>\n",
              "      <th>content</th>\n",
              "    </tr>\n",
              "  </thead>\n",
              "  <tbody>\n",
              "    <tr>\n",
              "      <th>0</th>\n",
              "      <td>0</td>\n",
              "      <td>STUCK IN WALMART PARKING lot after Colorado storm</td>\n",
              "      <td>FOX31 Denver</td>\n",
              "      <td>1 hour ago</td>\n",
              "      <td>26:32.8</td>\n",
              "      <td>Several drivers were forced into a Walmart par...</td>\n",
              "      <td>https://kdvr.com/news/local/drivers-spend-hour...</td>\n",
              "      <td>data:image/gif;base64,R0lGODlhAQABAIAAAP//////...</td>\n",
              "      <td>AURORA, Colo. (KDVR) — The historic snowstorm ...</td>\n",
              "    </tr>\n",
              "    <tr>\n",
              "      <th>1</th>\n",
              "      <td>1</td>\n",
              "      <td>Suspect wanted in fatal Monkey Junction Walmar...</td>\n",
              "      <td>Home - WSFX</td>\n",
              "      <td>1 hour ago</td>\n",
              "      <td>26:32.8</td>\n",
              "      <td>Laron Lee Carter is wanted by the NHC Sheriff'...</td>\n",
              "      <td>https://foxwilmington.com/local-news/suspect-w...</td>\n",
              "      <td>data:image/gif;base64,R0lGODlhAQABAIAAAP//////...</td>\n",
              "      <td>According to a spokesperson for the New Hanove...</td>\n",
              "    </tr>\n",
              "    <tr>\n",
              "      <th>2</th>\n",
              "      <td>2</td>\n",
              "      <td>Walmart Theft Investigation Turns Into Chase A...</td>\n",
              "      <td>KVRR</td>\n",
              "      <td>1 hour ago</td>\n",
              "      <td>26:32.8</td>\n",
              "      <td>— Two people are arrested after a chase where ...</td>\n",
              "      <td>https://www.kvrr.com/2021/03/15/walmart-theft-...</td>\n",
              "      <td>data:image/gif;base64,R0lGODlhAQABAIAAAP//////...</td>\n",
              "      <td>Walmart Theft Investigation Turns Into Chase A...</td>\n",
              "    </tr>\n",
              "    <tr>\n",
              "      <th>3</th>\n",
              "      <td>3</td>\n",
              "      <td>Walmart Calls Ex-Worker's 'Stonewalling' Claim...</td>\n",
              "      <td>NaN</td>\n",
              "      <td>1 hour ago</td>\n",
              "      <td>26:32.8</td>\n",
              "      <td>Law360 (March 15, 2021, 5:49 PM EDT) -- An ex-...</td>\n",
              "      <td>https://www.law360.com/retail/articles/1364916...</td>\n",
              "      <td>data:image/gif;base64,R0lGODlhAQABAIAAAP//////...</td>\n",
              "      <td>Law360 (March 15, 2021, 5:49 PM EDT) -- An ex-...</td>\n",
              "    </tr>\n",
              "    <tr>\n",
              "      <th>4</th>\n",
              "      <td>4</td>\n",
              "      <td>Three wanted for questioning in Walmart shopli...</td>\n",
              "      <td>wgxa.tv</td>\n",
              "      <td>1 hour ago</td>\n",
              "      <td>26:32.8</td>\n",
              "      <td>HOUSTON COUNTY, Ga. -- Perry police are lookin...</td>\n",
              "      <td>https://wgxa.tv/news/local/three-wanted-for-qu...</td>\n",
              "      <td>data:image/gif;base64,R0lGODlhAQABAIAAAP//////...</td>\n",
              "      <td>NaN</td>\n",
              "    </tr>\n",
              "    <tr>\n",
              "      <th>...</th>\n",
              "      <td>...</td>\n",
              "      <td>...</td>\n",
              "      <td>...</td>\n",
              "      <td>...</td>\n",
              "      <td>...</td>\n",
              "      <td>...</td>\n",
              "      <td>...</td>\n",
              "      <td>...</td>\n",
              "      <td>...</td>\n",
              "    </tr>\n",
              "    <tr>\n",
              "      <th>94</th>\n",
              "      <td>5</td>\n",
              "      <td>Biopharmaceutical Logistic Market 2021 by Comp...</td>\n",
              "      <td>NaN</td>\n",
              "      <td>10 hours ago</td>\n",
              "      <td>26:45.2</td>\n",
              "      <td>... Type and Application, Forecast to 2025 : B...</td>\n",
              "      <td>https://jumbonews.co.uk/uncategorised/2211131/...</td>\n",
              "      <td>data:image/gif;base64,R0lGODlhAQABAIAAAP//////...</td>\n",
              "      <td>The research report by OrbisPharmaReports on g...</td>\n",
              "    </tr>\n",
              "    <tr>\n",
              "      <th>95</th>\n",
              "      <td>6</td>\n",
              "      <td>Pharma making steady progress in meeting 2023 ...</td>\n",
              "      <td>European Pharmaceutical Review</td>\n",
              "      <td>10 hours ago</td>\n",
              "      <td>26:45.2</td>\n",
              "      <td>The study was conducted in 2020 by Amerisource...</td>\n",
              "      <td>https://www.europeanpharmaceuticalreview.com/n...</td>\n",
              "      <td>data:image/gif;base64,R0lGODlhAQABAIAAAP//////...</td>\n",
              "      <td>The GS1 US Barcode Assessment study indicates ...</td>\n",
              "    </tr>\n",
              "    <tr>\n",
              "      <th>96</th>\n",
              "      <td>7</td>\n",
              "      <td>Pharmacy Automation &amp; Medical Supplies Automat...</td>\n",
              "      <td>NaN</td>\n",
              "      <td>12 hours ago</td>\n",
              "      <td>26:45.2</td>\n",
              "      <td>... Recent Trends, Growth Factors, Business Op...</td>\n",
              "      <td>https://www.mccourier.com/pharmacy-automation-...</td>\n",
              "      <td>data:image/gif;base64,R0lGODlhAQABAIAAAP//////...</td>\n",
              "      <td>Global Pharmacy Automation &amp; Medical Supplies ...</td>\n",
              "    </tr>\n",
              "    <tr>\n",
              "      <th>97</th>\n",
              "      <td>8</td>\n",
              "      <td>Vaccine Storage &amp; Packaging Market Growth Anal...</td>\n",
              "      <td>KSU | The Sentinel Newspaper</td>\n",
              "      <td>12 hours ago</td>\n",
              "      <td>26:45.2</td>\n",
              "      <td>Lineage Logistics, DB Schenker, AmerisourceBer...</td>\n",
              "      <td>https://ksusentinel.com/2021/03/15/vaccine-sto...</td>\n",
              "      <td>data:image/gif;base64,R0lGODlhAQABAIAAAP//////...</td>\n",
              "      <td>(March 2021) The Global Vaccine Storage &amp; Pack...</td>\n",
              "    </tr>\n",
              "    <tr>\n",
              "      <th>98</th>\n",
              "      <td>9</td>\n",
              "      <td>Temperature-Controlled Packaging Solutions for...</td>\n",
              "      <td>NaN</td>\n",
              "      <td>12 hours ago</td>\n",
              "      <td>26:45.2</td>\n",
              "      <td>Few of the leading organizations' names are li...</td>\n",
              "      <td>https://www.mccourier.com/temperature-controll...</td>\n",
              "      <td>data:image/gif;base64,R0lGODlhAQABAIAAAP//////...</td>\n",
              "      <td>“Temperature-Controlled Packaging Solutions fo...</td>\n",
              "    </tr>\n",
              "  </tbody>\n",
              "</table>\n",
              "<p>99 rows × 9 columns</p>\n",
              "</div>"
            ],
            "text/plain": [
              "    Unnamed: 0  ...                                            content\n",
              "0            0  ...  AURORA, Colo. (KDVR) — The historic snowstorm ...\n",
              "1            1  ...  According to a spokesperson for the New Hanove...\n",
              "2            2  ...  Walmart Theft Investigation Turns Into Chase A...\n",
              "3            3  ...  Law360 (March 15, 2021, 5:49 PM EDT) -- An ex-...\n",
              "4            4  ...                                                NaN\n",
              "..         ...  ...                                                ...\n",
              "94           5  ...  The research report by OrbisPharmaReports on g...\n",
              "95           6  ...  The GS1 US Barcode Assessment study indicates ...\n",
              "96           7  ...  Global Pharmacy Automation & Medical Supplies ...\n",
              "97           8  ...  (March 2021) The Global Vaccine Storage & Pack...\n",
              "98           9  ...  “Temperature-Controlled Packaging Solutions fo...\n",
              "\n",
              "[99 rows x 9 columns]"
            ]
          },
          "metadata": {
            "tags": []
          },
          "execution_count": 7
        }
      ]
    },
    {
      "cell_type": "markdown",
      "metadata": {
        "id": "Fr23mImdtw-a"
      },
      "source": [
        "#4. Remove pronouns"
      ]
    },
    {
      "cell_type": "code",
      "metadata": {
        "id": "W6I_f1s4t0Aa"
      },
      "source": [
        "\n",
        "pronouns = ['I', 'You', 'It', 'He', 'She', 'We', 'They']\n",
        "suffixes = [\"\", \"’m\", \"’re\", \"’s\", \"’ve\", \"’d\", \"'m\", \"'re\", \"'s\", \"'ve\", \"'d\", \"m\", \"re\", \"s\", \"ve\", \"d\"]\n",
        "\n",
        "contraptions = [(p, s) for p in pronouns for s in suffixes]\n",
        "\n",
        "df_contraptions = pd.DataFrame(contraptions, columns=['pronoun', 'suffix'])\n",
        "\n",
        "df_contraptions['contraption'] = df_contraptions.apply(lambda x: x['pronoun'] + x['suffix'], axis=1)\n",
        "\n",
        "contraptions = df_contraptions.contraption.values\n"
      ],
      "execution_count": 8,
      "outputs": []
    },
    {
      "cell_type": "markdown",
      "metadata": {
        "id": "6bYq2pkjG3du"
      },
      "source": [
        "## 4. Define NER function"
      ]
    },
    {
      "cell_type": "code",
      "metadata": {
        "id": "Is7TUzu4tGP0"
      },
      "source": [
        "# define function\n",
        "\n",
        "def get_ner_data(paragraph):\n",
        "    '''\n",
        "    - function to extract named entities from a paragraph\n",
        "    - returns two data frames:\n",
        "        - the first is a dataframe of all unique entities (persons and orgs)\n",
        "        - the second is the links between the entities\n",
        "    '''\n",
        "    \n",
        "    # remove newlines and odd characters\n",
        "    paragraph = re.sub('\\r', '', paragraph)\n",
        "    paragraph = re.sub('\\n', ' ', paragraph)\n",
        "    paragraph = re.sub(\"’s\", '', paragraph)\n",
        "    paragraph = re.sub(\"“\", '', paragraph)\n",
        "    paragraph = re.sub(\"”\", '', paragraph)\n",
        "\n",
        "    \n",
        "    # tokenise sentences\n",
        "    sentences = tokenize.sent_tokenize(paragraph)\n",
        "    sentences = [Sentence(sent) for sent in sentences]\n",
        "    \n",
        "    # predict named entities\n",
        "    for sent in sentences:\n",
        "        tagger.predict(sent)\n",
        "    \n",
        "    # collect sentence NER's to list of dictionaries\n",
        "    sent_dicts = [sentence.to_dict(tag_type='ner') for sentence in sentences]\n",
        "    \n",
        "    # collect entities and types\n",
        "    entities = []\n",
        "    types = []\n",
        "    for sent_dict in sent_dicts:\n",
        "        entities.extend([entity['text'] for entity in sent_dict['entities']])\n",
        "        types.extend([str(entity['labels'])[1:4] for entity in sent_dict['entities']])\n",
        "   #The above line is what I changed from the default notebook to get things working     \n",
        "    \n",
        "    # create dataframe of entities (nodes)\n",
        "    df_ner = pd.DataFrame(data={'entity': entities, 'type': types})\n",
        "    df_ner = df_ner[df_ner['type'].isin(['ORG'])]\n",
        "    df_ner = df_ner[df_ner['entity'].map(lambda x: isinstance(x, str))]\n",
        "    df_ner = df_ner[~df_ner['entity'].isin(df_contraptions['contraption'].values)]\n",
        "    df_ner['entity'] = df_ner['entity'].map(lambda x: x.translate(str.maketrans('', '', string.punctuation)))\n",
        "    #df_ner['entity'] = df_ner.apply(lambda x: x['entity'].split(' ')[len(x['entity'].split(' '))-1] if x['type']=='PER' else x['entity'], axis=1)\n",
        "    df_ner = df_ner.drop_duplicates().sort_values('entity')\n",
        "    \n",
        "    # get entity combinations\n",
        "    combs = list(combinations(df_ner['entity'], 2))\n",
        "    \n",
        "    # create dataframe of relationships (edges)\n",
        "    df_links = pd.DataFrame(data=combs, columns=['from', 'to'])\n",
        "    \n",
        "    return df_ner, df_links"
      ],
      "execution_count": 9,
      "outputs": []
    },
    {
      "cell_type": "markdown",
      "metadata": {
        "id": "QmsBFSmRG6g2"
      },
      "source": [
        "## 5. Apply function"
      ]
    },
    {
      "cell_type": "code",
      "metadata": {
        "id": "UKlapM-otNIT"
      },
      "source": [
        "#df['date'] = pd.to_datetime(df['date'])\n",
        "#day = '2021-01-24'\n",
        "#df_day = df[df['date']==pd.to_datetime(day)][['date', 'domain', 'title', 'content']]\n"
      ],
      "execution_count": 22,
      "outputs": []
    },
    {
      "cell_type": "code",
      "metadata": {
        "id": "mdNrmXWUU6F1",
        "colab": {
          "base_uri": "https://localhost:8080/",
          "height": 639
        },
        "outputId": "ad892a71-4a73-4ef7-8b45-d0453ab63e94"
      },
      "source": [
        "df_domain = df.groupby('media').agg({'content': 'count'}).reset_index()\n",
        "df_domain.columns = ['media', 'count']\n",
        "df_domain = df_domain.sort_values('count', ascending=False)\n",
        "dfd_small=df_domain.iloc[1:21,:]\n",
        "\n",
        "dfd_small\n",
        "\n",
        "# g2 = sns.barplot(data=dfd_small,\n",
        "#              x='count',\n",
        "#              y='Domain',\n",
        "#              dodge=False,\n",
        "#              orient='h',\n",
        "#              hue='count',\n",
        "#              palette='viridis')\n",
        "\n",
        "# g2.set_yticks([])\n",
        "# g2.set_title('Number of articles from each provider')\n",
        "# g2.set_xlabel('Count')\n",
        "# g2.set_ylabel('')\n",
        "# g2.set_xlim(0, max(dfd_small['count'])+150)\n",
        "# g2.legend_.remove()\n",
        "# g2.tick_params(labelsize=5)\n",
        "\n",
        "# for i in dfd_small.index:\n",
        "#             g2.text(df_domain.iloc[i]['count']+5, i+0.25, df_domain.iloc[i]['Domain'], fontsize=8)\n",
        "\n",
        "# sns.despine()\n",
        "# g2.get_figure().savefig('domain_plot.png', dpi=1000)"
      ],
      "execution_count": 23,
      "outputs": [
        {
          "output_type": "execute_result",
          "data": {
            "text/html": [
              "<div>\n",
              "<style scoped>\n",
              "    .dataframe tbody tr th:only-of-type {\n",
              "        vertical-align: middle;\n",
              "    }\n",
              "\n",
              "    .dataframe tbody tr th {\n",
              "        vertical-align: top;\n",
              "    }\n",
              "\n",
              "    .dataframe thead th {\n",
              "        text-align: right;\n",
              "    }\n",
              "</style>\n",
              "<table border=\"1\" class=\"dataframe\">\n",
              "  <thead>\n",
              "    <tr style=\"text-align: right;\">\n",
              "      <th></th>\n",
              "      <th>media</th>\n",
              "      <th>count</th>\n",
              "    </tr>\n",
              "  </thead>\n",
              "  <tbody>\n",
              "    <tr>\n",
              "      <th>51</th>\n",
              "      <td>Weatherford Democrat</td>\n",
              "      <td>2</td>\n",
              "    </tr>\n",
              "    <tr>\n",
              "      <th>36</th>\n",
              "      <td>MarketWatch</td>\n",
              "      <td>2</td>\n",
              "    </tr>\n",
              "    <tr>\n",
              "      <th>41</th>\n",
              "      <td>SoccerNurds</td>\n",
              "      <td>2</td>\n",
              "    </tr>\n",
              "    <tr>\n",
              "      <th>0</th>\n",
              "      <td>9to5Mac</td>\n",
              "      <td>1</td>\n",
              "    </tr>\n",
              "    <tr>\n",
              "      <th>43</th>\n",
              "      <td>Stocks Register</td>\n",
              "      <td>1</td>\n",
              "    </tr>\n",
              "    <tr>\n",
              "      <th>31</th>\n",
              "      <td>JD Supra</td>\n",
              "      <td>1</td>\n",
              "    </tr>\n",
              "    <tr>\n",
              "      <th>32</th>\n",
              "      <td>Jumbo News</td>\n",
              "      <td>1</td>\n",
              "    </tr>\n",
              "    <tr>\n",
              "      <th>34</th>\n",
              "      <td>KVRR</td>\n",
              "      <td>1</td>\n",
              "    </tr>\n",
              "    <tr>\n",
              "      <th>35</th>\n",
              "      <td>Mac Rumors</td>\n",
              "      <td>1</td>\n",
              "    </tr>\n",
              "    <tr>\n",
              "      <th>37</th>\n",
              "      <td>Paris Post Intelligencer</td>\n",
              "      <td>1</td>\n",
              "    </tr>\n",
              "    <tr>\n",
              "      <th>38</th>\n",
              "      <td>Patch.com</td>\n",
              "      <td>1</td>\n",
              "    </tr>\n",
              "    <tr>\n",
              "      <th>39</th>\n",
              "      <td>RCR Wireless News</td>\n",
              "      <td>1</td>\n",
              "    </tr>\n",
              "    <tr>\n",
              "      <th>40</th>\n",
              "      <td>Seeking Alpha</td>\n",
              "      <td>1</td>\n",
              "    </tr>\n",
              "    <tr>\n",
              "      <th>42</th>\n",
              "      <td>State Reviewer</td>\n",
              "      <td>1</td>\n",
              "    </tr>\n",
              "    <tr>\n",
              "      <th>44</th>\n",
              "      <td>The Bisouv Network</td>\n",
              "      <td>1</td>\n",
              "    </tr>\n",
              "    <tr>\n",
              "      <th>1</th>\n",
              "      <td>ACROFAN USA</td>\n",
              "      <td>1</td>\n",
              "    </tr>\n",
              "    <tr>\n",
              "      <th>45</th>\n",
              "      <td>The Courier</td>\n",
              "      <td>1</td>\n",
              "    </tr>\n",
              "    <tr>\n",
              "      <th>46</th>\n",
              "      <td>The Daily Gazette</td>\n",
              "      <td>1</td>\n",
              "    </tr>\n",
              "    <tr>\n",
              "      <th>47</th>\n",
              "      <td>The Motley Fool Canada</td>\n",
              "      <td>1</td>\n",
              "    </tr>\n",
              "    <tr>\n",
              "      <th>48</th>\n",
              "      <td>VeterinaryPracticeNews.com</td>\n",
              "      <td>1</td>\n",
              "    </tr>\n",
              "  </tbody>\n",
              "</table>\n",
              "</div>"
            ],
            "text/plain": [
              "                         media  count\n",
              "51        Weatherford Democrat      2\n",
              "36                 MarketWatch      2\n",
              "41                 SoccerNurds      2\n",
              "0                      9to5Mac      1\n",
              "43             Stocks Register      1\n",
              "31                    JD Supra      1\n",
              "32                  Jumbo News      1\n",
              "34                        KVRR      1\n",
              "35                  Mac Rumors      1\n",
              "37    Paris Post Intelligencer      1\n",
              "38                   Patch.com      1\n",
              "39           RCR Wireless News      1\n",
              "40               Seeking Alpha      1\n",
              "42              State Reviewer      1\n",
              "44          The Bisouv Network      1\n",
              "1                  ACROFAN USA      1\n",
              "45                 The Courier      1\n",
              "46           The Daily Gazette      1\n",
              "47      The Motley Fool Canada      1\n",
              "48  VeterinaryPracticeNews.com      1"
            ]
          },
          "metadata": {
            "tags": []
          },
          "execution_count": 23
        }
      ]
    },
    {
      "cell_type": "code",
      "metadata": {
        "id": "T-0mpYVXDo_a",
        "colab": {
          "base_uri": "https://localhost:8080/"
        },
        "outputId": "c8eeccf6-2663-4dc8-8b6a-e139acf238d8"
      },
      "source": [
        "df_ner = pd.DataFrame()\n",
        "df_links = pd.DataFrame()\n",
        "\n",
        "for content in tqdm(df['content']):\n",
        "  try:\n",
        "    df_ner_temp, df_links_temp = get_ner_data(content)\n",
        "\n",
        "    df_ner = df_ner.append(df_ner_temp)\n",
        "    df_links = df_links.append(df_links_temp)\n",
        "  except:\n",
        "    continue\n",
        "\n"
      ],
      "execution_count": 11,
      "outputs": [
        {
          "output_type": "stream",
          "text": [
            "100%|██████████| 99/99 [1:20:16<00:00, 48.65s/it]\n"
          ],
          "name": "stderr"
        }
      ]
    },
    {
      "cell_type": "code",
      "metadata": {
        "id": "J8M9F10MclpN"
      },
      "source": [
        "praph=df['content'].iloc[1]\n",
        "praph = re.sub('\\r', '', praph)\n",
        "praph = re.sub('\\n', ' ', praph)\n",
        "praph = re.sub(\"’s\", '', praph)\n",
        "praph = re.sub(\"“\", '', praph)\n",
        "praph = re.sub(\"”\", '', praph)\n",
        "\n",
        "    \n",
        "# tokenise sentences\n",
        "sentences = tokenize.sent_tokenize(praph)\n",
        "sentences = [Sentence(sent) for sent in sentences]\n",
        "\n",
        "## predict named entities\n",
        "for sent in sentences:\n",
        "    tagger.predict(sent)\n",
        "    \n",
        "# # collect sentence NER's to list of dictionaries\n",
        "sent_dicts = [sentence.to_dict(tag_type='ner') for sentence in sentences]\n",
        "\n",
        "\n",
        "\n",
        "# # collect entities and types\n",
        "entities = []\n",
        "types = []\n",
        "for sent_dict in sent_dicts:\n",
        "    entities.extend([entity['text'] for entity in sent_dict['entities']])\n",
        "    types.extend([str(entity['labels'])[1:4] for entity in sent_dict['entities']])\n",
        "\n",
        "#types"
      ],
      "execution_count": 29,
      "outputs": []
    },
    {
      "cell_type": "markdown",
      "metadata": {
        "id": "DwC4omiTVC7N"
      },
      "source": [
        "# 6. Remove plurals and possessives"
      ]
    },
    {
      "cell_type": "code",
      "metadata": {
        "id": "-K6wZ_wE_h8H"
      },
      "source": [
        "def remove_s(entity, entity_series):\n",
        "  if (entity[-1] == 's') & (entity[:-1] in entity_series):\n",
        "    return entity[:-1]\n",
        "  else:\n",
        "    return entity\n",
        "\n"
      ],
      "execution_count": 16,
      "outputs": []
    },
    {
      "cell_type": "code",
      "metadata": {
        "id": "mWCvgkUvB_Pj"
      },
      "source": [
        "df_links['to'] = df_links['to'].map(lambda x: remove_s(x, df_ner['entity'].values))\n",
        "df_links['from'] = df_links['from'].map(lambda x: remove_s(x, df_ner['entity'].values))\n",
        "df_ner['entity_cl'] = df_ner['entity'].map(lambda x: remove_s(x, df_ner['entity'].values))\n",
        "\n"
      ],
      "execution_count": 13,
      "outputs": []
    },
    {
      "cell_type": "code",
      "metadata": {
        "id": "CIjTpMfLc-2F",
        "colab": {
          "base_uri": "https://localhost:8080/",
          "height": 47
        },
        "outputId": "feaa9be4-5c4a-48d7-eb95-54ecd0059484"
      },
      "source": [
        "df_links[df_links['to'].str.contains('They')]"
      ],
      "execution_count": 26,
      "outputs": [
        {
          "output_type": "execute_result",
          "data": {
            "text/html": [
              "<div>\n",
              "<style scoped>\n",
              "    .dataframe tbody tr th:only-of-type {\n",
              "        vertical-align: middle;\n",
              "    }\n",
              "\n",
              "    .dataframe tbody tr th {\n",
              "        vertical-align: top;\n",
              "    }\n",
              "\n",
              "    .dataframe thead th {\n",
              "        text-align: right;\n",
              "    }\n",
              "</style>\n",
              "<table border=\"1\" class=\"dataframe\">\n",
              "  <thead>\n",
              "    <tr style=\"text-align: right;\">\n",
              "      <th></th>\n",
              "      <th>from</th>\n",
              "      <th>to</th>\n",
              "    </tr>\n",
              "  </thead>\n",
              "  <tbody>\n",
              "  </tbody>\n",
              "</table>\n",
              "</div>"
            ],
            "text/plain": [
              "Empty DataFrame\n",
              "Columns: [from, to]\n",
              "Index: []"
            ]
          },
          "metadata": {
            "tags": []
          },
          "execution_count": 26
        }
      ]
    },
    {
      "cell_type": "markdown",
      "metadata": {
        "id": "OKJYOh3eVJoL"
      },
      "source": [
        "# 7. Export Data"
      ]
    },
    {
      "cell_type": "code",
      "metadata": {
        "id": "jzCtT6aQ43-U"
      },
      "source": [
        "df_ner.to_csv('/content/drive/My Drive/df_ner_att1.csv', index=False)\n",
        "df_links.to_csv('/content/drive/My Drive/df_links_att1.csv', index=False)\n",
        "\n",
        "#Use the above two lines to write the critical dataframes to csv files in your \n",
        "#google drive account"
      ],
      "execution_count": 17,
      "outputs": []
    },
    {
      "cell_type": "code",
      "metadata": {
        "colab": {
          "base_uri": "https://localhost:8080/"
        },
        "id": "qOwjcIDx0xIB",
        "outputId": "d62ad5e8-137a-4bd0-94d5-4aa9d64cde48"
      },
      "source": [
        "from google.colab import drive\n",
        "drive.mount('/content/drive')\n",
        "df_links_att1 = pd.read_csv('/content/drive/My Drive/df_links_att1.csv')\n",
        "df_ner_att1 = pd.read_csv('/content/drive/My Drive/df_ner_att1.csv')\n",
        "#Above two lines may have to be changed to import your data depending on where it is\n",
        "#df_links_att1\n",
        "#df_ner_att1"
      ],
      "execution_count": 42,
      "outputs": [
        {
          "output_type": "stream",
          "text": [
            "Drive already mounted at /content/drive; to attempt to forcibly remount, call drive.mount(\"/content/drive\", force_remount=True).\n"
          ],
          "name": "stdout"
        }
      ]
    }
  ]
}